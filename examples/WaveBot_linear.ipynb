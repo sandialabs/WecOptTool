{
 "cells": [
  {
   "cell_type": "markdown",
   "id": "eb6d76b5",
   "metadata": {},
   "source": [
    "# WaveBot Linear Model"
   ]
  },
  {
   "cell_type": "code",
   "execution_count": 1,
   "id": "79750f36",
   "metadata": {},
   "outputs": [],
   "source": [
    "import autograd.numpy as np\n",
    "import capytaine as cpy\n",
    "from capytaine.io.meshio import load_from_meshio\n",
    "import matplotlib.pyplot as plt\n",
    "\n",
    "import wecopttool as wot\n",
    "\n",
    "## set colorblind-friendly colormap for plots\n",
    "plt.style.use('tableau-colorblind10')"
   ]
  },
  {
   "cell_type": "markdown",
   "id": "8bdfea06",
   "metadata": {},
   "source": [
    "## 0. Setup"
   ]
  },
  {
   "cell_type": "markdown",
   "id": "b124ddd1",
   "metadata": {},
   "source": [
    "### frequency"
   ]
  },
  {
   "cell_type": "code",
   "execution_count": 2,
   "id": "992212f4",
   "metadata": {},
   "outputs": [],
   "source": [
    "wavefreq = 0.3 # Hz\n",
    "f1 = wavefreq\n",
    "nfreq = 10\n",
    "\n",
    "freq = wot.frequency(f1, nfreq, False) # False -> no zero frequency"
   ]
  },
  {
   "cell_type": "markdown",
   "id": "79a54931",
   "metadata": {},
   "source": [
    "### wave"
   ]
  },
  {
   "cell_type": "code",
   "execution_count": 3,
   "id": "09170219",
   "metadata": {},
   "outputs": [],
   "source": [
    "amplitude = 0.0625 # m\n",
    "phase = 30 # degrees\n",
    "wavedir = 0 # degrees\n",
    "\n",
    "waves = wot.waves.regular_wave(f1, nfreq, wavefreq, amplitude, phase, wavedir)"
   ]
  },
  {
   "cell_type": "markdown",
   "id": "9b1835e5",
   "metadata": {},
   "source": [
    "### mesh"
   ]
  },
  {
   "cell_type": "code",
   "execution_count": 4,
   "id": "4749bcba",
   "metadata": {},
   "outputs": [
    {
     "name": "stdout",
     "output_type": "stream",
     "text": [
      "Info    : [ 90%] Union - Splitting solids                                                                                          \r"
     ]
    }
   ],
   "source": [
    "wb = wot.geom.WaveBot()  # use standard dimensions\n",
    "mesh_size_factor = 0.2 # 1.0 for default, smaller to refine mesh\n",
    "mesh = wb.mesh(mesh_size_factor)\n",
    "\n",
    "# create mesh object for WaveBot and add internal lid\n",
    "mesh_obj = load_from_meshio(mesh, 'WaveBot')\n",
    "lid_mesh = mesh_obj.generate_lid(-2e-2)\n",
    "\n",
    "fb = cpy.FloatingBody(mesh=mesh_obj, lid_mesh=lid_mesh, name=\"WaveBot\")"
   ]
  },
  {
   "cell_type": "markdown",
   "id": "731819e1",
   "metadata": {},
   "source": [
    "### degrees of freedom"
   ]
  },
  {
   "cell_type": "code",
   "execution_count": 5,
   "id": "0f036089",
   "metadata": {},
   "outputs": [],
   "source": [
    "fb.add_translation_dof(name=\"Heave\")\n",
    "ndof = fb.nb_dofs"
   ]
  },
  {
   "cell_type": "markdown",
   "id": "61f16f0b",
   "metadata": {},
   "source": [
    "### hydrodynamic coefficients (BEM)"
   ]
  },
  {
   "cell_type": "code",
   "execution_count": 6,
   "id": "30e771e5",
   "metadata": {},
   "outputs": [],
   "source": [
    "# bem_data = wot.run_bem(fb, freq)\n",
    "# wot.write_netcdf('bem_data.nc', bem_data)\n",
    "bem_data = wot.read_netcdf('bem_data.nc')"
   ]
  },
  {
   "cell_type": "code",
   "execution_count": 7,
   "id": "2e603620",
   "metadata": {},
   "outputs": [
    {
     "name": "stderr",
     "output_type": "stream",
     "text": [
      "WARNING:wecopttool.core:Linear damping for DOF \"Heave\" has negative or close to zero terms. Shifting up damping terms [9] to a minimum of 1e-06 N/(m/s)\n"
     ]
    },
    {
     "data": {
      "text/html": [
       "<pre style=\"white-space:pre;overflow-x:auto;line-height:normal;font-family:Menlo,'DejaVu Sans Mono',consolas,'Courier New',monospace\"><span style=\"color: #7fbfbf; text-decoration-color: #7fbfbf\">[16:40:10] </span><span style=\"color: #808000; text-decoration-color: #808000\">WARNING </span> Linear damping for DOF <span style=\"color: #008000; text-decoration-color: #008000\">\"Heave\"</span> has negative or close to zero terms. Shifting up damping terms  \n",
       "<span style=\"color: #7fbfbf; text-decoration-color: #7fbfbf\">           </span>         <span style=\"font-weight: bold\">[</span><span style=\"color: #008080; text-decoration-color: #008080; font-weight: bold\">9</span><span style=\"font-weight: bold\">]</span> to a minimum of <span style=\"color: #008080; text-decoration-color: #008080; font-weight: bold\">1e-06</span> N/<span style=\"font-weight: bold\">(</span>m/s<span style=\"font-weight: bold\">)</span>                                                              \n",
       "</pre>\n"
      ],
      "text/plain": [
       "\u001b[2;36m[16:40:10]\u001b[0m\u001b[2;36m \u001b[0m\u001b[33mWARNING \u001b[0m Linear damping for DOF \u001b[32m\"Heave\"\u001b[0m has negative or close to zero terms. Shifting up damping terms  \n",
       "\u001b[2;36m           \u001b[0m         \u001b[1m[\u001b[0m\u001b[1;36m9\u001b[0m\u001b[1m]\u001b[0m to a minimum of \u001b[1;36m1e-06\u001b[0m N/\u001b[1m(\u001b[0mm/s\u001b[1m)\u001b[0m                                                              \n"
      ]
     },
     "metadata": {},
     "output_type": "display_data"
    }
   ],
   "source": [
    "hd = wot.add_linear_friction(bem_data, friction = None)\n",
    "#we're not actually adding friction, but need the data variables in hd\n",
    "hd = wot.check_radiation_damping(hd)"
   ]
  },
  {
   "cell_type": "markdown",
   "id": "c9b50ee1",
   "metadata": {},
   "source": [
    "### intrinsic impedance"
   ]
  },
  {
   "cell_type": "code",
   "execution_count": 8,
   "id": "1e0ecd45",
   "metadata": {},
   "outputs": [],
   "source": [
    "intrinsic_impedance = wot.hydrodynamic_impedance(hd)"
   ]
  },
  {
   "cell_type": "markdown",
   "id": "278912ee",
   "metadata": {},
   "source": [
    "### PTO"
   ]
  },
  {
   "cell_type": "code",
   "execution_count": 9,
   "id": "1975dcbb",
   "metadata": {},
   "outputs": [],
   "source": [
    "## PTO impedance definition\n",
    "omega = bem_data.omega.values\n",
    "gear_ratio = 12.0\n",
    "torque_constant = 6.7\n",
    "winding_resistance = 0.5#*1e-5 #TODO\n",
    "winding_inductance = 0.0\n",
    "drivetrain_inertia = 2.0#*1e-5 #TODO\n",
    "drivetrain_friction = 1.0#*1e-5 #TODO\n",
    "drivetrain_stiffness = 0.0\n",
    "\n",
    "drivetrain_impedance = (1j*omega*drivetrain_inertia +\n",
    "                        drivetrain_friction +\n",
    "                        1/(1j*omega)*drivetrain_stiffness)\n",
    "\n",
    "winding_impedance = winding_resistance + 1j*omega*winding_inductance\n",
    "\n",
    "\n",
    "pto_impedance_11 = -1* gear_ratio**2 * drivetrain_impedance\n",
    "off_diag = np.sqrt(3.0/2.0) * torque_constant * gear_ratio\n",
    "pto_impedance_12 = -1*(off_diag+0j) * np.ones(omega.shape)\n",
    "pto_impedance_21 = -1*(off_diag+0j) * np.ones(omega.shape)\n",
    "pto_impedance_22 = winding_impedance\n",
    "pto_impedance = np.array([\n",
    "    [pto_impedance_11, pto_impedance_12],\n",
    "    [pto_impedance_21, pto_impedance_22],\n",
    "])"
   ]
  },
  {
   "cell_type": "markdown",
   "id": "f0ab333e",
   "metadata": {},
   "source": [
    "## 1. WecOptTool - time-domain, pseudospectral"
   ]
  },
  {
   "cell_type": "code",
   "execution_count": 10,
   "id": "2314b40a",
   "metadata": {},
   "outputs": [],
   "source": [
    "# PTO\n",
    "pto_names = ['PTO_Heave',]\n",
    "kinematics = np.eye(ndof)\n",
    "controller = None\n",
    "pto_loss = None\n",
    "\n",
    "pto = wot.pto.PTO(ndof, kinematics, controller, pto_impedance, pto_loss, pto_names)\n",
    "\n",
    "# additional forces\n",
    "friction = None\n",
    "f_add = {'PTO': pto.force_on_wec}\n",
    "\n",
    "# constraints\n",
    "constraints = None"
   ]
  },
  {
   "cell_type": "code",
   "execution_count": 11,
   "id": "72e0453c",
   "metadata": {},
   "outputs": [
    {
     "name": "stderr",
     "output_type": "stream",
     "text": [
      "WARNING:wecopttool.core:Linear damping for DOF \"Heave\" has negative or close to zero terms. Shifting up damping terms [9] to a minimum of 1e-06 N/(m/s)\n"
     ]
    },
    {
     "data": {
      "text/html": [
       "<pre style=\"white-space:pre;overflow-x:auto;line-height:normal;font-family:Menlo,'DejaVu Sans Mono',consolas,'Courier New',monospace\"><span style=\"color: #7fbfbf; text-decoration-color: #7fbfbf\">           </span><span style=\"color: #808000; text-decoration-color: #808000\">WARNING </span> Linear damping for DOF <span style=\"color: #008000; text-decoration-color: #008000\">\"Heave\"</span> has negative or close to zero terms. Shifting up damping terms  \n",
       "<span style=\"color: #7fbfbf; text-decoration-color: #7fbfbf\">           </span>         <span style=\"font-weight: bold\">[</span><span style=\"color: #008080; text-decoration-color: #008080; font-weight: bold\">9</span><span style=\"font-weight: bold\">]</span> to a minimum of <span style=\"color: #008080; text-decoration-color: #008080; font-weight: bold\">1e-06</span> N/<span style=\"font-weight: bold\">(</span>m/s<span style=\"font-weight: bold\">)</span>                                                              \n",
       "</pre>\n"
      ],
      "text/plain": [
       "\u001b[2;36m          \u001b[0m\u001b[2;36m \u001b[0m\u001b[33mWARNING \u001b[0m Linear damping for DOF \u001b[32m\"Heave\"\u001b[0m has negative or close to zero terms. Shifting up damping terms  \n",
       "\u001b[2;36m           \u001b[0m         \u001b[1m[\u001b[0m\u001b[1;36m9\u001b[0m\u001b[1m]\u001b[0m to a minimum of \u001b[1;36m1e-06\u001b[0m N/\u001b[1m(\u001b[0mm/s\u001b[1m)\u001b[0m                                                              \n"
      ]
     },
     "metadata": {},
     "output_type": "display_data"
    }
   ],
   "source": [
    "# WEC object\n",
    "wec = wot.WEC.from_bem(\n",
    "    hd,\n",
    "    constraints=constraints,\n",
    "    friction=friction,\n",
    "    f_add=f_add\n",
    ")"
   ]
  },
  {
   "cell_type": "code",
   "execution_count": 12,
   "id": "f021d17c",
   "metadata": {},
   "outputs": [],
   "source": [
    "# Objective function\n",
    "obj_fun = pto.average_power\n",
    "nstate_opt = 2*nfreq"
   ]
  },
  {
   "cell_type": "code",
   "execution_count": 13,
   "id": "0918a24b",
   "metadata": {},
   "outputs": [
    {
     "name": "stdout",
     "output_type": "stream",
     "text": [
      "Optimization terminated successfully    (Exit mode 0)\n",
      "            Current function value: -0.29185628595717733\n",
      "            Iterations: 14\n",
      "            Function evaluations: 15\n",
      "            Gradient evaluations: 14\n",
      "Optimal average electrical power: -29.185628595717734 W\n"
     ]
    }
   ],
   "source": [
    "# Solve\n",
    "scale_x_wec = 1e1\n",
    "scale_x_opt = 1e-3\n",
    "scale_obj = 1e-2\n",
    "\n",
    "results = wec.solve(\n",
    "    waves,\n",
    "    obj_fun,\n",
    "    nstate_opt,\n",
    "    scale_x_wec=scale_x_wec,\n",
    "    scale_x_opt=scale_x_opt,\n",
    "    scale_obj=scale_obj,\n",
    ")\n",
    "opt_average_power = results[0].fun\n",
    "print(f'Optimal average electrical power: {opt_average_power} W')\n",
    "\n",
    "# Post-process\n",
    "nsubsteps = 5\n",
    "wec_fdom, wec_tdom = wec.post_process(wec, results, waves, nsubsteps)\n",
    "pto_fdom, pto_tdom = pto.post_process(wec, results, waves, nsubsteps)"
   ]
  },
  {
   "cell_type": "code",
   "execution_count": 14,
   "id": "e2c1c680",
   "metadata": {},
   "outputs": [
    {
     "data": {
      "text/plain": [
       "[<matplotlib.lines.Line2D at 0x1686961e0>]"
      ]
     },
     "execution_count": 14,
     "metadata": {},
     "output_type": "execute_result"
    },
    {
     "data": {
      "image/png": "[encoded data removed]",
      "text/plain": [
       "<Figure size 640x480 with 1 Axes>"
      ]
     },
     "metadata": {},
     "output_type": "display_data"
    }
   ],
   "source": [
    "plt.figure()\n",
    "pto_tdom[0]['power'].sel(type='elec').plot(label='optimal electrical, constrained')"
   ]
  },
  {
   "cell_type": "markdown",
   "id": "9e8d8881",
   "metadata": {},
   "source": [
    "## 2. Frequency Domain"
   ]
  },
  {
   "cell_type": "code",
   "execution_count": 15,
   "id": "3b378d00",
   "metadata": {},
   "outputs": [],
   "source": [
    "# from numpy.linalg import inv"
   ]
  },
  {
   "cell_type": "code",
   "execution_count": 16,
   "id": "5e758807",
   "metadata": {},
   "outputs": [],
   "source": [
    "# Zi = intrinsic_impedance.data\n",
    "# Zp = pto_impedance.transpose(2,0,1)\n",
    "# Fe = wot.wave_excitation(bem_data.excitation_force, waves)\n",
    "# pto_ndof = pto.ndof\n",
    "# K = kinematics # np.expand_dims(kinematics, axis=-1)"
   ]
  },
  {
   "cell_type": "code",
   "execution_count": 17,
   "id": "cff439ce",
   "metadata": {},
   "outputs": [],
   "source": [
    "# Zp = pto_impedance.transpose(2,0,1)\n",
    "# Zp_fu = Zp[:, :pto_ndof, :pto_ndof]\n",
    "# Zp_vu = Zp[:, pto_ndof:, :pto_ndof]\n",
    "# Zp_fi = Zp[:, :pto_ndof, pto_ndof:]\n",
    "# Zp_vi = Zp[:, pto_ndof:, pto_ndof:]"
   ]
  },
  {
   "cell_type": "code",
   "execution_count": 18,
   "id": "11cb426f",
   "metadata": {},
   "outputs": [],
   "source": [
    "# Zi_p = inv(K @ inv(Zi) @ K.T)\n",
    "# Fe_p = Zi_p @ K @ inv(Zi) @ Fe"
   ]
  },
  {
   "cell_type": "code",
   "execution_count": 19,
   "id": "8d60c9ed",
   "metadata": {},
   "outputs": [],
   "source": [
    "# D = inv(Zi_p-Zp_fu)\n",
    "# Vth = D @ Zp_vu @ Fe_p\n",
    "# Zth = Zp_vi + D @ Zp_fi @ Zp_vu"
   ]
  },
  {
   "cell_type": "code",
   "execution_count": 20,
   "id": "33cf5795",
   "metadata": {},
   "outputs": [],
   "source": [
    "# Ith = inv(np.real(Zth)) @ Vth / 2 # should be positive\n",
    "# I_opt = -Ith\n",
    "# V_opt = np.conjugate(Zth) @ Ith"
   ]
  },
  {
   "cell_type": "code",
   "execution_count": 21,
   "id": "2086a04a",
   "metadata": {},
   "outputs": [],
   "source": [
    "# i_opt = wot.fd_to_td(np.squeeze(I_opt), f1, nfreq, False)\n",
    "# v_opt = wot.fd_to_td(np.squeeze(V_opt), f1, nfreq, False)\n",
    "# p_opt = i_opt * v_opt"
   ]
  },
  {
   "cell_type": "code",
   "execution_count": 22,
   "id": "1b01ef6c",
   "metadata": {},
   "outputs": [],
   "source": [
    "# fig, ax = plt.subplots()\n",
    "# ax.plot(wec.time, p_opt)\n",
    "# pto_tdom[0]['power'].sel(type='elec').plot(ax=ax)\n",
    "# plt.title(\"Power\")"
   ]
  },
  {
   "cell_type": "code",
   "execution_count": 23,
   "id": "31a4ad3c",
   "metadata": {},
   "outputs": [],
   "source": [
    "# np.mean(p_opt)"
   ]
  },
  {
   "cell_type": "code",
   "execution_count": 24,
   "id": "7289e96b",
   "metadata": {},
   "outputs": [],
   "source": [
    "# fig, ax = plt.subplots()\n",
    "# ax.plot(wec.time, v_opt)\n",
    "# pto_tdom[0].trans_eff.plot(ax=ax)\n",
    "# plt.title(\"Voltage\")"
   ]
  },
  {
   "cell_type": "code",
   "execution_count": 25,
   "id": "03a14b90",
   "metadata": {},
   "outputs": [],
   "source": [
    "# fig, ax = plt.subplots()\n",
    "# ax.plot(wec.time, i_opt)\n",
    "# pto_tdom[0].trans_flo.plot(ax=ax)\n",
    "# plt.title(\"Current\")"
   ]
  },
  {
   "cell_type": "code",
   "execution_count": null,
   "id": "d25bbfff",
   "metadata": {},
   "outputs": [],
   "source": []
  },
  {
   "cell_type": "code",
   "execution_count": null,
   "id": "3341b1d0",
   "metadata": {},
   "outputs": [],
   "source": []
  },
  {
   "cell_type": "code",
   "execution_count": null,
   "id": "2a5ef388",
   "metadata": {},
   "outputs": [],
   "source": []
  },
  {
   "cell_type": "code",
   "execution_count": null,
   "id": "03bce44c",
   "metadata": {},
   "outputs": [],
   "source": []
  },
  {
   "cell_type": "code",
   "execution_count": null,
   "id": "6d6a4101",
   "metadata": {},
   "outputs": [],
   "source": []
  },
  {
   "cell_type": "code",
   "execution_count": 26,
   "id": "f2fa2b5b",
   "metadata": {},
   "outputs": [],
   "source": [
    "# # impedance dimension names\n",
    "# tmp_names = [[name+\"_flow_port_1\", name+\"_flow_port_2\"] for name in pto_names]\n",
    "# pto_flows = np.array(tmp_names).flatten(order='F')\n",
    "# tmp_names = [[name+\"_effort_port_1\", name+\"_effort_port_2\"] for name in pto_names]\n",
    "# pto_efforts = np.array(tmp_names).flatten(order='F')\n",
    "\n",
    "# # convert to xarray\n",
    "# Zp = xr.DataArray(\n",
    "#     np.transpose(pto_impedance, axes=[2,0,1]),\n",
    "#     dims=['frequency', 'pto_efforts', 'pto_flows'],\n",
    "#     coords={\n",
    "#         'frequency': freq,\n",
    "#         'pto_flows': pto_flows,\n",
    "#         'pto_efforts': pto_efforts,\n",
    "#     },\n",
    "# )\n",
    "\n",
    "\n",
    "# Zp_fu = Zp.isel(pto_efforts=slice(0, pto.ndof), pto_flows=slice(0, pto.ndof))\n",
    "# Zp_vu = Zp.isel(pto_efforts=slice(pto.ndof, None), pto_flows=slice(0, pto.ndof))\n",
    "# Zp_fi = Zp.isel(pto_efforts=slice(0, pto.ndof), pto_flows=slice(pto.ndof, None))\n",
    "# Zp_vi = Zp.isel(pto_efforts=slice(pto.ndof, None), pto_flows=slice(pto.ndof, None))\n",
    "\n",
    "# inv(A @ inv(M) @ A.T) @ A @ inv(M)"
   ]
  },
  {
   "cell_type": "code",
   "execution_count": null,
   "id": "c3709674",
   "metadata": {},
   "outputs": [],
   "source": []
  },
  {
   "cell_type": "code",
   "execution_count": 27,
   "id": "a3299a8c",
   "metadata": {},
   "outputs": [],
   "source": [
    "Zi = intrinsic_impedance.data\n",
    "Zp = pto_impedance.transpose(2,0,1)\n",
    "# Fe = wot.wave_excitation(hd.excitation_force, waves)\n",
    "exc_coeff = hd['Froude_Krylov_force'] + hd['diffraction_force']\n",
    "Fe = wot.wave_excitation(exc_coeff, waves)"
   ]
  },
  {
   "cell_type": "code",
   "execution_count": 28,
   "id": "21a97147",
   "metadata": {},
   "outputs": [
    {
     "data": {
      "text/plain": [
       "((-144-542.8672105403163j),\n",
       " (-98.46948765988375+0j),\n",
       " (-98.46948765988375+0j),\n",
       " (0.5+0j))"
      ]
     },
     "execution_count": 28,
     "metadata": {},
     "output_type": "execute_result"
    }
   ],
   "source": [
    "Zp_fu = Zp[0,0,0]\n",
    "Zp_vu = Zp[0,1,0]\n",
    "Zp_fi= Zp[0,0,1]\n",
    "Zp_vi = Zp[0,1,1]\n",
    "\n",
    "Zp_fu, Zp_vu, Zp_fi, Zp_vi"
   ]
  },
  {
   "cell_type": "code",
   "execution_count": 29,
   "id": "b4b5cecd",
   "metadata": {},
   "outputs": [
    {
     "data": {
      "text/plain": [
       "((1011.4482402036944-8932.323306827984j),\n",
       " (856.4606723739181+632.2493816552201j))"
      ]
     },
     "execution_count": 29,
     "metadata": {},
     "output_type": "execute_result"
    }
   ],
   "source": [
    "Zi = Zi[0,0,0]\n",
    "# Fe = Fe[0,0,0]\n",
    "Fe = waves.data[0,0,0] * exc_coeff.data[0,0,0]\n",
    "Zi, Fe"
   ]
  },
  {
   "cell_type": "code",
   "execution_count": 31,
   "id": "6bdf7f9c",
   "metadata": {},
   "outputs": [
    {
     "data": {
      "text/plain": [
       "((0.6562159861922648+1.134249992424798j),\n",
       " (4.513779138992846-8.281131891675543j),\n",
       " (5.924028058296525-10.868422262168163j))"
      ]
     },
     "execution_count": 31,
     "metadata": {},
     "output_type": "execute_result"
    }
   ],
   "source": [
    "Vth = Zp_vu * Fe / (Zi - Zp_fu)\n",
    "Zth = Zp_vi + Zp_fi * Zp_vu / (Zi - Zp_fu)\n",
    "Ith = Vth / (2*np.real(Zth))\n",
    "Zth, Ith, Vth"
   ]
  },
  {
   "cell_type": "code",
   "execution_count": 32,
   "id": "17d9e5f3",
   "metadata": {},
   "outputs": [
    {
     "data": {
      "text/plain": [
       "((-4.513779138992846+8.281131891675543j),\n",
       " (-6.430859756253474-10.553965085293928j))"
      ]
     },
     "execution_count": 32,
     "metadata": {},
     "output_type": "execute_result"
    }
   ],
   "source": [
    "I = -Ith\n",
    "V = np.conjugate(Zth) * Ith\n",
    "I, V"
   ]
  },
  {
   "cell_type": "code",
   "execution_count": 33,
   "id": "052ef5af",
   "metadata": {},
   "outputs": [
    {
     "data": {
      "text/plain": [
       "(9.43140220343363, 12.358888955978355)"
      ]
     },
     "execution_count": 33,
     "metadata": {},
     "output_type": "execute_result"
    }
   ],
   "source": [
    "np.abs(I), np.abs(V)"
   ]
  },
  {
   "cell_type": "code",
   "execution_count": 34,
   "id": "18ea3cce",
   "metadata": {},
   "outputs": [
    {
     "data": {
      "text/plain": [
       "(array([9.43507341]), array([12.36202153]))"
      ]
     },
     "execution_count": 34,
     "metadata": {},
     "output_type": "execute_result"
    }
   ],
   "source": [
    "np.abs(pto_fdom[0].trans_flo.data[1]), np.abs(pto_fdom[0].trans_eff.data[1])"
   ]
  },
  {
   "cell_type": "code",
   "execution_count": 35,
   "id": "bd8d9bc7",
   "metadata": {},
   "outputs": [
    {
     "data": {
      "text/plain": [
       "array([0.9996109])"
      ]
     },
     "execution_count": 35,
     "metadata": {},
     "output_type": "execute_result"
    }
   ],
   "source": [
    "np.abs(I) / np.abs(pto_fdom[0].trans_flo.data[1])"
   ]
  },
  {
   "cell_type": "code",
   "execution_count": 36,
   "id": "68b1d76d",
   "metadata": {},
   "outputs": [
    {
     "data": {
      "text/plain": [
       "array([0.9997466])"
      ]
     },
     "execution_count": 36,
     "metadata": {},
     "output_type": "execute_result"
    }
   ],
   "source": [
    "np.abs(V) / np.abs(pto_fdom[0].trans_eff.data[1])"
   ]
  },
  {
   "cell_type": "code",
   "execution_count": 37,
   "id": "d9f76398",
   "metadata": {},
   "outputs": [
    {
     "data": {
      "text/plain": [
       "29.18564811894609"
      ]
     },
     "execution_count": 37,
     "metadata": {},
     "output_type": "execute_result"
    }
   ],
   "source": [
    "(np.abs(Vth))**2/(8*np.real(Zth))"
   ]
  },
  {
   "cell_type": "code",
   "execution_count": null,
   "id": "c1a9ce26",
   "metadata": {},
   "outputs": [],
   "source": []
  },
  {
   "cell_type": "code",
   "execution_count": null,
   "id": "3e271215",
   "metadata": {},
   "outputs": [],
   "source": []
  },
  {
   "cell_type": "code",
   "execution_count": 51,
   "id": "ad1c00ce",
   "metadata": {},
   "outputs": [
    {
     "data": {
      "text/plain": [
       "((0.05412658773652742+0.031249999999999997j),\n",
       " (16925.46224713159+1909.019037655435j))"
      ]
     },
     "execution_count": 51,
     "metadata": {},
     "output_type": "execute_result"
    }
   ],
   "source": [
    "waves.data[0,0,0], np.conjugate(hd.excitation_force.data)[0,0,0]"
   ]
  },
  {
   "cell_type": "code",
   "execution_count": 54,
   "id": "d76e7dc3",
   "metadata": {},
   "outputs": [
    {
     "data": {
      "text/plain": [
       "(781.377253926147+1107.7078033233709j)"
      ]
     },
     "execution_count": 54,
     "metadata": {},
     "output_type": "execute_result"
    }
   ],
   "source": [
    "Fe_1 = wot.wave_excitation(np.conjugate(hd.excitation_force), waves)[0,0,0]\n",
    "Fe_1"
   ]
  },
  {
   "cell_type": "code",
   "execution_count": 66,
   "id": "1e468464",
   "metadata": {},
   "outputs": [
    {
     "data": {
      "text/plain": [
       "(10, 1, 1)"
      ]
     },
     "execution_count": 66,
     "metadata": {},
     "output_type": "execute_result"
    }
   ],
   "source": [
    "np.conjugate(hd.excitation_force).shape"
   ]
  },
  {
   "cell_type": "code",
   "execution_count": 73,
   "id": "cf5c2e78",
   "metadata": {},
   "outputs": [
    {
     "data": {
      "text/plain": [
       "array([[[[ 8.56460672e+02+6.32249382e+02j]],\n",
       "\n",
       "        [[ 8.66243711e+01+4.67133014e+02j]],\n",
       "\n",
       "        [[-1.80922814e+02+5.84000765e+01j]],\n",
       "\n",
       "        [[ 1.72341062e+01-6.81145095e+01j]],\n",
       "\n",
       "        [[ 1.81740395e+00+2.43792745e+01j]],\n",
       "\n",
       "        [[ 2.52476853e+00-7.50294955e+00j]],\n",
       "\n",
       "        [[-2.84395853e+00+4.07831058e-01j]],\n",
       "\n",
       "        [[ 3.47422113e-02+4.34809905e-01j]],\n",
       "\n",
       "        [[ 2.60435417e-01+1.44175208e-01j]],\n",
       "\n",
       "        [[ 1.87526960e-01+1.76699666e-01j]]],\n",
       "\n",
       "\n",
       "       [[[ 0.00000000e+00+0.00000000e+00j]],\n",
       "\n",
       "        [[ 0.00000000e+00+0.00000000e+00j]],\n",
       "\n",
       "        [[-0.00000000e+00+0.00000000e+00j]],\n",
       "\n",
       "        [[ 0.00000000e+00-0.00000000e+00j]],\n",
       "\n",
       "        [[ 0.00000000e+00+0.00000000e+00j]],\n",
       "\n",
       "        [[ 0.00000000e+00-0.00000000e+00j]],\n",
       "\n",
       "        [[-0.00000000e+00+0.00000000e+00j]],\n",
       "\n",
       "        [[ 0.00000000e+00+0.00000000e+00j]],\n",
       "\n",
       "        [[ 0.00000000e+00+0.00000000e+00j]],\n",
       "\n",
       "        [[ 0.00000000e+00+0.00000000e+00j]]],\n",
       "\n",
       "\n",
       "       [[[ 0.00000000e+00+0.00000000e+00j]],\n",
       "\n",
       "        [[ 0.00000000e+00+0.00000000e+00j]],\n",
       "\n",
       "        [[-0.00000000e+00+0.00000000e+00j]],\n",
       "\n",
       "        [[ 0.00000000e+00-0.00000000e+00j]],\n",
       "\n",
       "        [[ 0.00000000e+00+0.00000000e+00j]],\n",
       "\n",
       "        [[ 0.00000000e+00-0.00000000e+00j]],\n",
       "\n",
       "        [[-0.00000000e+00+0.00000000e+00j]],\n",
       "\n",
       "        [[ 0.00000000e+00+0.00000000e+00j]],\n",
       "\n",
       "        [[ 0.00000000e+00+0.00000000e+00j]],\n",
       "\n",
       "        [[ 0.00000000e+00+0.00000000e+00j]]],\n",
       "\n",
       "\n",
       "       [[[ 0.00000000e+00+0.00000000e+00j]],\n",
       "\n",
       "        [[ 0.00000000e+00+0.00000000e+00j]],\n",
       "\n",
       "        [[-0.00000000e+00+0.00000000e+00j]],\n",
       "\n",
       "        [[ 0.00000000e+00-0.00000000e+00j]],\n",
       "\n",
       "        [[ 0.00000000e+00+0.00000000e+00j]],\n",
       "\n",
       "        [[ 0.00000000e+00-0.00000000e+00j]],\n",
       "\n",
       "        [[-0.00000000e+00+0.00000000e+00j]],\n",
       "\n",
       "        [[ 0.00000000e+00+0.00000000e+00j]],\n",
       "\n",
       "        [[ 0.00000000e+00+0.00000000e+00j]],\n",
       "\n",
       "        [[ 0.00000000e+00+0.00000000e+00j]]],\n",
       "\n",
       "\n",
       "       [[[ 0.00000000e+00+0.00000000e+00j]],\n",
       "\n",
       "        [[ 0.00000000e+00+0.00000000e+00j]],\n",
       "\n",
       "        [[-0.00000000e+00+0.00000000e+00j]],\n",
       "\n",
       "        [[ 0.00000000e+00-0.00000000e+00j]],\n",
       "\n",
       "        [[ 0.00000000e+00+0.00000000e+00j]],\n",
       "\n",
       "        [[ 0.00000000e+00-0.00000000e+00j]],\n",
       "\n",
       "        [[-0.00000000e+00+0.00000000e+00j]],\n",
       "\n",
       "        [[ 0.00000000e+00+0.00000000e+00j]],\n",
       "\n",
       "        [[ 0.00000000e+00+0.00000000e+00j]],\n",
       "\n",
       "        [[ 0.00000000e+00+0.00000000e+00j]]],\n",
       "\n",
       "\n",
       "       [[[ 0.00000000e+00+0.00000000e+00j]],\n",
       "\n",
       "        [[ 0.00000000e+00+0.00000000e+00j]],\n",
       "\n",
       "        [[-0.00000000e+00+0.00000000e+00j]],\n",
       "\n",
       "        [[ 0.00000000e+00-0.00000000e+00j]],\n",
       "\n",
       "        [[ 0.00000000e+00+0.00000000e+00j]],\n",
       "\n",
       "        [[ 0.00000000e+00-0.00000000e+00j]],\n",
       "\n",
       "        [[-0.00000000e+00+0.00000000e+00j]],\n",
       "\n",
       "        [[ 0.00000000e+00+0.00000000e+00j]],\n",
       "\n",
       "        [[ 0.00000000e+00+0.00000000e+00j]],\n",
       "\n",
       "        [[ 0.00000000e+00+0.00000000e+00j]]],\n",
       "\n",
       "\n",
       "       [[[ 0.00000000e+00+0.00000000e+00j]],\n",
       "\n",
       "        [[ 0.00000000e+00+0.00000000e+00j]],\n",
       "\n",
       "        [[-0.00000000e+00+0.00000000e+00j]],\n",
       "\n",
       "        [[ 0.00000000e+00-0.00000000e+00j]],\n",
       "\n",
       "        [[ 0.00000000e+00+0.00000000e+00j]],\n",
       "\n",
       "        [[ 0.00000000e+00-0.00000000e+00j]],\n",
       "\n",
       "        [[-0.00000000e+00+0.00000000e+00j]],\n",
       "\n",
       "        [[ 0.00000000e+00+0.00000000e+00j]],\n",
       "\n",
       "        [[ 0.00000000e+00+0.00000000e+00j]],\n",
       "\n",
       "        [[ 0.00000000e+00+0.00000000e+00j]]],\n",
       "\n",
       "\n",
       "       [[[ 0.00000000e+00+0.00000000e+00j]],\n",
       "\n",
       "        [[ 0.00000000e+00+0.00000000e+00j]],\n",
       "\n",
       "        [[-0.00000000e+00+0.00000000e+00j]],\n",
       "\n",
       "        [[ 0.00000000e+00-0.00000000e+00j]],\n",
       "\n",
       "        [[ 0.00000000e+00+0.00000000e+00j]],\n",
       "\n",
       "        [[ 0.00000000e+00-0.00000000e+00j]],\n",
       "\n",
       "        [[-0.00000000e+00+0.00000000e+00j]],\n",
       "\n",
       "        [[ 0.00000000e+00+0.00000000e+00j]],\n",
       "\n",
       "        [[ 0.00000000e+00+0.00000000e+00j]],\n",
       "\n",
       "        [[ 0.00000000e+00+0.00000000e+00j]]],\n",
       "\n",
       "\n",
       "       [[[ 0.00000000e+00+0.00000000e+00j]],\n",
       "\n",
       "        [[ 0.00000000e+00+0.00000000e+00j]],\n",
       "\n",
       "        [[-0.00000000e+00+0.00000000e+00j]],\n",
       "\n",
       "        [[ 0.00000000e+00-0.00000000e+00j]],\n",
       "\n",
       "        [[ 0.00000000e+00+0.00000000e+00j]],\n",
       "\n",
       "        [[ 0.00000000e+00-0.00000000e+00j]],\n",
       "\n",
       "        [[-0.00000000e+00+0.00000000e+00j]],\n",
       "\n",
       "        [[ 0.00000000e+00+0.00000000e+00j]],\n",
       "\n",
       "        [[ 0.00000000e+00+0.00000000e+00j]],\n",
       "\n",
       "        [[ 0.00000000e+00+0.00000000e+00j]]],\n",
       "\n",
       "\n",
       "       [[[ 0.00000000e+00+0.00000000e+00j]],\n",
       "\n",
       "        [[ 0.00000000e+00+0.00000000e+00j]],\n",
       "\n",
       "        [[-0.00000000e+00+0.00000000e+00j]],\n",
       "\n",
       "        [[ 0.00000000e+00-0.00000000e+00j]],\n",
       "\n",
       "        [[ 0.00000000e+00+0.00000000e+00j]],\n",
       "\n",
       "        [[ 0.00000000e+00-0.00000000e+00j]],\n",
       "\n",
       "        [[-0.00000000e+00+0.00000000e+00j]],\n",
       "\n",
       "        [[ 0.00000000e+00+0.00000000e+00j]],\n",
       "\n",
       "        [[ 0.00000000e+00+0.00000000e+00j]],\n",
       "\n",
       "        [[ 0.00000000e+00+0.00000000e+00j]]]])"
      ]
     },
     "execution_count": 73,
     "metadata": {},
     "output_type": "execute_result"
    }
   ],
   "source": [
    "np.expand_dims(waves,-1) * np.conjugate(hd.excitation_force).data"
   ]
  },
  {
   "cell_type": "code",
   "execution_count": null,
   "id": "d65e3941",
   "metadata": {},
   "outputs": [],
   "source": []
  },
  {
   "cell_type": "code",
   "execution_count": 62,
   "id": "33a0036e",
   "metadata": {},
   "outputs": [
    {
     "data": {
      "text/plain": [
       "(856.4606723739181+632.2493816552201j)"
      ]
     },
     "execution_count": 62,
     "metadata": {},
     "output_type": "execute_result"
    }
   ],
   "source": [
    "Fe_2 = waves.data[0,0,0] * np.conjugate(hd.excitation_force.data[0,0,0])\n",
    "Fe_2"
   ]
  },
  {
   "cell_type": "code",
   "execution_count": 63,
   "id": "30f4fbbf",
   "metadata": {},
   "outputs": [
    {
     "data": {
      "text/plain": [
       "(1355.5688807643285, 1064.5488076770328)"
      ]
     },
     "execution_count": 63,
     "metadata": {},
     "output_type": "execute_result"
    }
   ],
   "source": [
    "np.abs(Fe_1), np.abs(Fe_2)"
   ]
  },
  {
   "cell_type": "code",
   "execution_count": 61,
   "id": "079b6195",
   "metadata": {},
   "outputs": [
    {
     "data": {
      "text/html": [
       "<div><svg style=\"position: absolute; width: 0; height: 0; overflow: hidden\">\n",
       "<defs>\n",
       "<symbol id=\"icon-database\" viewBox=\"0 0 32 32\">\n",
       "<path d=\"M16 0c-8.837 0-16 2.239-16 5v4c0 2.761 7.163 5 16 5s16-2.239 16-5v-4c0-2.761-7.163-5-16-5z\"></path>\n",
       "<path d=\"M16 17c-8.837 0-16-2.239-16-5v6c0 2.761 7.163 5 16 5s16-2.239 16-5v-6c0 2.761-7.163 5-16 5z\"></path>\n",
       "<path d=\"M16 26c-8.837 0-16-2.239-16-5v6c0 2.761 7.163 5 16 5s16-2.239 16-5v-6c0 2.761-7.163 5-16 5z\"></path>\n",
       "</symbol>\n",
       "<symbol id=\"icon-file-text2\" viewBox=\"0 0 32 32\">\n",
       "<path d=\"M28.681 7.159c-0.694-0.947-1.662-2.053-2.724-3.116s-2.169-2.030-3.116-2.724c-1.612-1.182-2.393-1.319-2.841-1.319h-15.5c-1.378 0-2.5 1.121-2.5 2.5v27c0 1.378 1.122 2.5 2.5 2.5h23c1.378 0 2.5-1.122 2.5-2.5v-19.5c0-0.448-0.137-1.23-1.319-2.841zM24.543 5.457c0.959 0.959 1.712 1.825 2.268 2.543h-4.811v-4.811c0.718 0.556 1.584 1.309 2.543 2.268zM28 29.5c0 0.271-0.229 0.5-0.5 0.5h-23c-0.271 0-0.5-0.229-0.5-0.5v-27c0-0.271 0.229-0.5 0.5-0.5 0 0 15.499-0 15.5 0v7c0 0.552 0.448 1 1 1h7v19.5z\"></path>\n",
       "<path d=\"M23 26h-14c-0.552 0-1-0.448-1-1s0.448-1 1-1h14c0.552 0 1 0.448 1 1s-0.448 1-1 1z\"></path>\n",
       "<path d=\"M23 22h-14c-0.552 0-1-0.448-1-1s0.448-1 1-1h14c0.552 0 1 0.448 1 1s-0.448 1-1 1z\"></path>\n",
       "<path d=\"M23 18h-14c-0.552 0-1-0.448-1-1s0.448-1 1-1h14c0.552 0 1 0.448 1 1s-0.448 1-1 1z\"></path>\n",
       "</symbol>\n",
       "</defs>\n",
       "</svg>\n",
       "<style>/* CSS stylesheet for displaying xarray objects in jupyterlab.\n",
       " *\n",
       " */\n",
       "\n",
       ":root {\n",
       "  --xr-font-color0: var(--jp-content-font-color0, rgba(0, 0, 0, 1));\n",
       "  --xr-font-color2: var(--jp-content-font-color2, rgba(0, 0, 0, 0.54));\n",
       "  --xr-font-color3: var(--jp-content-font-color3, rgba(0, 0, 0, 0.38));\n",
       "  --xr-border-color: var(--jp-border-color2, #e0e0e0);\n",
       "  --xr-disabled-color: var(--jp-layout-color3, #bdbdbd);\n",
       "  --xr-background-color: var(--jp-layout-color0, white);\n",
       "  --xr-background-color-row-even: var(--jp-layout-color1, white);\n",
       "  --xr-background-color-row-odd: var(--jp-layout-color2, #eeeeee);\n",
       "}\n",
       "\n",
       "html[theme=\"dark\"],\n",
       "html[data-theme=\"dark\"],\n",
       "body[data-theme=\"dark\"],\n",
       "body.vscode-dark {\n",
       "  --xr-font-color0: rgba(255, 255, 255, 1);\n",
       "  --xr-font-color2: rgba(255, 255, 255, 0.54);\n",
       "  --xr-font-color3: rgba(255, 255, 255, 0.38);\n",
       "  --xr-border-color: #1f1f1f;\n",
       "  --xr-disabled-color: #515151;\n",
       "  --xr-background-color: #111111;\n",
       "  --xr-background-color-row-even: #111111;\n",
       "  --xr-background-color-row-odd: #313131;\n",
       "}\n",
       "\n",
       ".xr-wrap {\n",
       "  display: block !important;\n",
       "  min-width: 300px;\n",
       "  max-width: 700px;\n",
       "}\n",
       "\n",
       ".xr-text-repr-fallback {\n",
       "  /* fallback to plain text repr when CSS is not injected (untrusted notebook) */\n",
       "  display: none;\n",
       "}\n",
       "\n",
       ".xr-header {\n",
       "  padding-top: 6px;\n",
       "  padding-bottom: 6px;\n",
       "  margin-bottom: 4px;\n",
       "  border-bottom: solid 1px var(--xr-border-color);\n",
       "}\n",
       "\n",
       ".xr-header > div,\n",
       ".xr-header > ul {\n",
       "  display: inline;\n",
       "  margin-top: 0;\n",
       "  margin-bottom: 0;\n",
       "}\n",
       "\n",
       ".xr-obj-type,\n",
       ".xr-array-name {\n",
       "  margin-left: 2px;\n",
       "  margin-right: 10px;\n",
       "}\n",
       "\n",
       ".xr-obj-type {\n",
       "  color: var(--xr-font-color2);\n",
       "}\n",
       "\n",
       ".xr-sections {\n",
       "  padding-left: 0 !important;\n",
       "  display: grid;\n",
       "  grid-template-columns: 150px auto auto 1fr 0 20px 0 20px;\n",
       "}\n",
       "\n",
       ".xr-section-item {\n",
       "  display: contents;\n",
       "}\n",
       "\n",
       ".xr-section-item input {\n",
       "  display: inline-block;\n",
       "  opacity: 0;\n",
       "  height: 0;\n",
       "}\n",
       "\n",
       ".xr-section-item input + label {\n",
       "  color: var(--xr-disabled-color);\n",
       "}\n",
       "\n",
       ".xr-section-item input:enabled + label {\n",
       "  cursor: pointer;\n",
       "  color: var(--xr-font-color2);\n",
       "}\n",
       "\n",
       ".xr-section-item input:focus + label {\n",
       "  border: 2px solid var(--xr-font-color0);\n",
       "}\n",
       "\n",
       ".xr-section-item input:enabled + label:hover {\n",
       "  color: var(--xr-font-color0);\n",
       "}\n",
       "\n",
       ".xr-section-summary {\n",
       "  grid-column: 1;\n",
       "  color: var(--xr-font-color2);\n",
       "  font-weight: 500;\n",
       "}\n",
       "\n",
       ".xr-section-summary > span {\n",
       "  display: inline-block;\n",
       "  padding-left: 0.5em;\n",
       "}\n",
       "\n",
       ".xr-section-summary-in:disabled + label {\n",
       "  color: var(--xr-font-color2);\n",
       "}\n",
       "\n",
       ".xr-section-summary-in + label:before {\n",
       "  display: inline-block;\n",
       "  content: \"►\";\n",
       "  font-size: 11px;\n",
       "  width: 15px;\n",
       "  text-align: center;\n",
       "}\n",
       "\n",
       ".xr-section-summary-in:disabled + label:before {\n",
       "  color: var(--xr-disabled-color);\n",
       "}\n",
       "\n",
       ".xr-section-summary-in:checked + label:before {\n",
       "  content: \"▼\";\n",
       "}\n",
       "\n",
       ".xr-section-summary-in:checked + label > span {\n",
       "  display: none;\n",
       "}\n",
       "\n",
       ".xr-section-summary,\n",
       ".xr-section-inline-details {\n",
       "  padding-top: 4px;\n",
       "  padding-bottom: 4px;\n",
       "}\n",
       "\n",
       ".xr-section-inline-details {\n",
       "  grid-column: 2 / -1;\n",
       "}\n",
       "\n",
       ".xr-section-details {\n",
       "  display: none;\n",
       "  grid-column: 1 / -1;\n",
       "  margin-bottom: 5px;\n",
       "}\n",
       "\n",
       ".xr-section-summary-in:checked ~ .xr-section-details {\n",
       "  display: contents;\n",
       "}\n",
       "\n",
       ".xr-array-wrap {\n",
       "  grid-column: 1 / -1;\n",
       "  display: grid;\n",
       "  grid-template-columns: 20px auto;\n",
       "}\n",
       "\n",
       ".xr-array-wrap > label {\n",
       "  grid-column: 1;\n",
       "  vertical-align: top;\n",
       "}\n",
       "\n",
       ".xr-preview {\n",
       "  color: var(--xr-font-color3);\n",
       "}\n",
       "\n",
       ".xr-array-preview,\n",
       ".xr-array-data {\n",
       "  padding: 0 5px !important;\n",
       "  grid-column: 2;\n",
       "}\n",
       "\n",
       ".xr-array-data,\n",
       ".xr-array-in:checked ~ .xr-array-preview {\n",
       "  display: none;\n",
       "}\n",
       "\n",
       ".xr-array-in:checked ~ .xr-array-data,\n",
       ".xr-array-preview {\n",
       "  display: inline-block;\n",
       "}\n",
       "\n",
       ".xr-dim-list {\n",
       "  display: inline-block !important;\n",
       "  list-style: none;\n",
       "  padding: 0 !important;\n",
       "  margin: 0;\n",
       "}\n",
       "\n",
       ".xr-dim-list li {\n",
       "  display: inline-block;\n",
       "  padding: 0;\n",
       "  margin: 0;\n",
       "}\n",
       "\n",
       ".xr-dim-list:before {\n",
       "  content: \"(\";\n",
       "}\n",
       "\n",
       ".xr-dim-list:after {\n",
       "  content: \")\";\n",
       "}\n",
       "\n",
       ".xr-dim-list li:not(:last-child):after {\n",
       "  content: \",\";\n",
       "  padding-right: 5px;\n",
       "}\n",
       "\n",
       ".xr-has-index {\n",
       "  font-weight: bold;\n",
       "}\n",
       "\n",
       ".xr-var-list,\n",
       ".xr-var-item {\n",
       "  display: contents;\n",
       "}\n",
       "\n",
       ".xr-var-item > div,\n",
       ".xr-var-item label,\n",
       ".xr-var-item > .xr-var-name span {\n",
       "  background-color: var(--xr-background-color-row-even);\n",
       "  margin-bottom: 0;\n",
       "}\n",
       "\n",
       ".xr-var-item > .xr-var-name:hover span {\n",
       "  padding-right: 5px;\n",
       "}\n",
       "\n",
       ".xr-var-list > li:nth-child(odd) > div,\n",
       ".xr-var-list > li:nth-child(odd) > label,\n",
       ".xr-var-list > li:nth-child(odd) > .xr-var-name span {\n",
       "  background-color: var(--xr-background-color-row-odd);\n",
       "}\n",
       "\n",
       ".xr-var-name {\n",
       "  grid-column: 1;\n",
       "}\n",
       "\n",
       ".xr-var-dims {\n",
       "  grid-column: 2;\n",
       "}\n",
       "\n",
       ".xr-var-dtype {\n",
       "  grid-column: 3;\n",
       "  text-align: right;\n",
       "  color: var(--xr-font-color2);\n",
       "}\n",
       "\n",
       ".xr-var-preview {\n",
       "  grid-column: 4;\n",
       "}\n",
       "\n",
       ".xr-index-preview {\n",
       "  grid-column: 2 / 5;\n",
       "  color: var(--xr-font-color2);\n",
       "}\n",
       "\n",
       ".xr-var-name,\n",
       ".xr-var-dims,\n",
       ".xr-var-dtype,\n",
       ".xr-preview,\n",
       ".xr-attrs dt {\n",
       "  white-space: nowrap;\n",
       "  overflow: hidden;\n",
       "  text-overflow: ellipsis;\n",
       "  padding-right: 10px;\n",
       "}\n",
       "\n",
       ".xr-var-name:hover,\n",
       ".xr-var-dims:hover,\n",
       ".xr-var-dtype:hover,\n",
       ".xr-attrs dt:hover {\n",
       "  overflow: visible;\n",
       "  width: auto;\n",
       "  z-index: 1;\n",
       "}\n",
       "\n",
       ".xr-var-attrs,\n",
       ".xr-var-data,\n",
       ".xr-index-data {\n",
       "  display: none;\n",
       "  background-color: var(--xr-background-color) !important;\n",
       "  padding-bottom: 5px !important;\n",
       "}\n",
       "\n",
       ".xr-var-attrs-in:checked ~ .xr-var-attrs,\n",
       ".xr-var-data-in:checked ~ .xr-var-data,\n",
       ".xr-index-data-in:checked ~ .xr-index-data {\n",
       "  display: block;\n",
       "}\n",
       "\n",
       ".xr-var-data > table {\n",
       "  float: right;\n",
       "}\n",
       "\n",
       ".xr-var-name span,\n",
       ".xr-var-data,\n",
       ".xr-index-name div,\n",
       ".xr-index-data,\n",
       ".xr-attrs {\n",
       "  padding-left: 25px !important;\n",
       "}\n",
       "\n",
       ".xr-attrs,\n",
       ".xr-var-attrs,\n",
       ".xr-var-data,\n",
       ".xr-index-data {\n",
       "  grid-column: 1 / -1;\n",
       "}\n",
       "\n",
       "dl.xr-attrs {\n",
       "  padding: 0;\n",
       "  margin: 0;\n",
       "  display: grid;\n",
       "  grid-template-columns: 125px auto;\n",
       "}\n",
       "\n",
       ".xr-attrs dt,\n",
       ".xr-attrs dd {\n",
       "  padding: 0;\n",
       "  margin: 0;\n",
       "  float: left;\n",
       "  padding-right: 10px;\n",
       "  width: auto;\n",
       "}\n",
       "\n",
       ".xr-attrs dt {\n",
       "  font-weight: normal;\n",
       "  grid-column: 1;\n",
       "}\n",
       "\n",
       ".xr-attrs dt:hover span {\n",
       "  display: inline-block;\n",
       "  background: var(--xr-background-color);\n",
       "  padding-right: 10px;\n",
       "}\n",
       "\n",
       ".xr-attrs dd {\n",
       "  grid-column: 2;\n",
       "  white-space: pre-wrap;\n",
       "  word-break: break-all;\n",
       "}\n",
       "\n",
       ".xr-icon-database,\n",
       ".xr-icon-file-text2,\n",
       ".xr-no-icon {\n",
       "  display: inline-block;\n",
       "  vertical-align: middle;\n",
       "  width: 1em;\n",
       "  height: 1.5em !important;\n",
       "  stroke-width: 0;\n",
       "  stroke: currentColor;\n",
       "  fill: currentColor;\n",
       "}\n",
       "</style><pre class='xr-text-repr-fallback'>&lt;xarray.DataArray &#x27;force&#x27; ()&gt; Size: 8B\n",
       "array(1064.54880768)\n",
       "Coordinates:\n",
       "    omega           float64 8B 1.885\n",
       "    influenced_dof  &lt;U5 20B &#x27;DOF_0&#x27;\n",
       "    freq            float64 8B 0.3\n",
       "    period          float64 8B 3.333\n",
       "    realization     int64 8B 0</pre><div class='xr-wrap' style='display:none'><div class='xr-header'><div class='xr-obj-type'>xarray.DataArray</div><div class='xr-array-name'>'force'</div></div><ul class='xr-sections'><li class='xr-section-item'><div class='xr-array-wrap'><input id='section-080cf8cd-5b70-4a35-acfe-5325e60a57b1' class='xr-array-in' type='checkbox' checked><label for='section-080cf8cd-5b70-4a35-acfe-5325e60a57b1' title='Show/hide data repr'><svg class='icon xr-icon-database'><use xlink:href='#icon-database'></use></svg></label><div class='xr-array-preview xr-preview'><span>1.065e+03</span></div><div class='xr-array-data'><pre>array(1064.54880768)</pre></div></div></li><li class='xr-section-item'><input id='section-f1131709-f7a7-48a1-a618-5cce8f6af812' class='xr-section-summary-in' type='checkbox'  checked><label for='section-f1131709-f7a7-48a1-a618-5cce8f6af812' class='xr-section-summary' >Coordinates: <span>(5)</span></label><div class='xr-section-inline-details'></div><div class='xr-section-details'><ul class='xr-var-list'><li class='xr-var-item'><div class='xr-var-name'><span>omega</span></div><div class='xr-var-dims'>()</div><div class='xr-var-dtype'>float64</div><div class='xr-var-preview xr-preview'>1.885</div><input id='attrs-332a29c5-6a51-4846-919a-5c9b013ec14a' class='xr-var-attrs-in' type='checkbox' ><label for='attrs-332a29c5-6a51-4846-919a-5c9b013ec14a' title='Show/Hide attributes'><svg class='icon xr-icon-file-text2'><use xlink:href='#icon-file-text2'></use></svg></label><input id='data-3e2ec8f4-2ece-4786-a272-993257294d2a' class='xr-var-data-in' type='checkbox'><label for='data-3e2ec8f4-2ece-4786-a272-993257294d2a' title='Show/Hide data repr'><svg class='icon xr-icon-database'><use xlink:href='#icon-database'></use></svg></label><div class='xr-var-attrs'><dl class='xr-attrs'><dt><span>long_name :</span></dt><dd>Radial frequency</dd><dt><span>units :</span></dt><dd>rad/s</dd></dl></div><div class='xr-var-data'><pre>array(1.88495559)</pre></div></li><li class='xr-var-item'><div class='xr-var-name'><span>influenced_dof</span></div><div class='xr-var-dims'>()</div><div class='xr-var-dtype'>&lt;U5</div><div class='xr-var-preview xr-preview'>&#x27;DOF_0&#x27;</div><input id='attrs-bfe298c9-2db1-40ea-bd87-b61ecbe0eb83' class='xr-var-attrs-in' type='checkbox' ><label for='attrs-bfe298c9-2db1-40ea-bd87-b61ecbe0eb83' title='Show/Hide attributes'><svg class='icon xr-icon-file-text2'><use xlink:href='#icon-file-text2'></use></svg></label><input id='data-2f7e8d07-9fd0-4076-8437-ca87881c6b40' class='xr-var-data-in' type='checkbox'><label for='data-2f7e8d07-9fd0-4076-8437-ca87881c6b40' title='Show/Hide data repr'><svg class='icon xr-icon-database'><use xlink:href='#icon-database'></use></svg></label><div class='xr-var-attrs'><dl class='xr-attrs'><dt><span>long_name :</span></dt><dd>Degree of freedom</dd></dl></div><div class='xr-var-data'><pre>array(&#x27;DOF_0&#x27;, dtype=&#x27;&lt;U5&#x27;)</pre></div></li><li class='xr-var-item'><div class='xr-var-name'><span>freq</span></div><div class='xr-var-dims'>()</div><div class='xr-var-dtype'>float64</div><div class='xr-var-preview xr-preview'>0.3</div><input id='attrs-32528f46-951e-4702-8473-eadefe9e7f4a' class='xr-var-attrs-in' type='checkbox' ><label for='attrs-32528f46-951e-4702-8473-eadefe9e7f4a' title='Show/Hide attributes'><svg class='icon xr-icon-file-text2'><use xlink:href='#icon-file-text2'></use></svg></label><input id='data-2a050c97-bbdd-4fa7-9ca5-965796125e02' class='xr-var-data-in' type='checkbox'><label for='data-2a050c97-bbdd-4fa7-9ca5-965796125e02' title='Show/Hide data repr'><svg class='icon xr-icon-database'><use xlink:href='#icon-database'></use></svg></label><div class='xr-var-attrs'><dl class='xr-attrs'><dt><span>long_name :</span></dt><dd>Frequency</dd><dt><span>units :</span></dt><dd>Hz</dd></dl></div><div class='xr-var-data'><pre>array(0.3)</pre></div></li><li class='xr-var-item'><div class='xr-var-name'><span>period</span></div><div class='xr-var-dims'>()</div><div class='xr-var-dtype'>float64</div><div class='xr-var-preview xr-preview'>3.333</div><input id='attrs-d1d7c194-bd14-433f-b87f-73812d2546b1' class='xr-var-attrs-in' type='checkbox' ><label for='attrs-d1d7c194-bd14-433f-b87f-73812d2546b1' title='Show/Hide attributes'><svg class='icon xr-icon-file-text2'><use xlink:href='#icon-file-text2'></use></svg></label><input id='data-fb6d6ef6-25e5-4909-954b-bea7a39c6806' class='xr-var-data-in' type='checkbox'><label for='data-fb6d6ef6-25e5-4909-954b-bea7a39c6806' title='Show/Hide data repr'><svg class='icon xr-icon-database'><use xlink:href='#icon-database'></use></svg></label><div class='xr-var-attrs'><dl class='xr-attrs'><dt><span>long_name :</span></dt><dd>Period</dd><dt><span>units :</span></dt><dd>s</dd></dl></div><div class='xr-var-data'><pre>array(3.33333333)</pre></div></li><li class='xr-var-item'><div class='xr-var-name'><span>realization</span></div><div class='xr-var-dims'>()</div><div class='xr-var-dtype'>int64</div><div class='xr-var-preview xr-preview'>0</div><input id='attrs-83c71e22-707d-4864-947a-9308e11d741a' class='xr-var-attrs-in' type='checkbox' ><label for='attrs-83c71e22-707d-4864-947a-9308e11d741a' title='Show/Hide attributes'><svg class='icon xr-icon-file-text2'><use xlink:href='#icon-file-text2'></use></svg></label><input id='data-443c80a5-3f3f-4257-b9d8-d389b3466456' class='xr-var-data-in' type='checkbox'><label for='data-443c80a5-3f3f-4257-b9d8-d389b3466456' title='Show/Hide data repr'><svg class='icon xr-icon-database'><use xlink:href='#icon-database'></use></svg></label><div class='xr-var-attrs'><dl class='xr-attrs'><dt><span>long_name :</span></dt><dd>Phase realization</dd><dt><span>units :</span></dt><dd></dd></dl></div><div class='xr-var-data'><pre>array(0)</pre></div></li></ul></div></li><li class='xr-section-item'><input id='section-230a4c75-57dc-4f38-9d7a-b1fb79a596bd' class='xr-section-summary-in' type='checkbox' disabled ><label for='section-230a4c75-57dc-4f38-9d7a-b1fb79a596bd' class='xr-section-summary'  title='Expand/collapse section'>Indexes: <span>(0)</span></label><div class='xr-section-inline-details'></div><div class='xr-section-details'><ul class='xr-var-list'></ul></div></li><li class='xr-section-item'><input id='section-6bad6766-e696-4801-ad69-279c9e862dee' class='xr-section-summary-in' type='checkbox' disabled ><label for='section-6bad6766-e696-4801-ad69-279c9e862dee' class='xr-section-summary'  title='Expand/collapse section'>Attributes: <span>(0)</span></label><div class='xr-section-inline-details'></div><div class='xr-section-details'><dl class='xr-attrs'></dl></div></li></ul></div></div>"
      ],
      "text/plain": [
       "<xarray.DataArray 'force' ()> Size: 8B\n",
       "array(1064.54880768)\n",
       "Coordinates:\n",
       "    omega           float64 8B 1.885\n",
       "    influenced_dof  <U5 20B 'DOF_0'\n",
       "    freq            float64 8B 0.3\n",
       "    period          float64 8B 3.333\n",
       "    realization     int64 8B 0"
      ]
     },
     "execution_count": 61,
     "metadata": {},
     "output_type": "execute_result"
    }
   ],
   "source": [
    "np.abs(wec_fdom[0].force.sel(type = ['Froude_Krylov', 'diffraction']).sum(dim='type').squeeze()[1])\n"
   ]
  },
  {
   "cell_type": "code",
   "execution_count": 74,
   "id": "39e43292",
   "metadata": {},
   "outputs": [
    {
     "data": {
      "text/plain": [
       "(10, 1, 1)"
      ]
     },
     "execution_count": 74,
     "metadata": {},
     "output_type": "execute_result"
    }
   ],
   "source": [
    "(wot.waves.regular_wave(f1, nfreq, wavefreq, amplitude, phase, wavedir)).shape"
   ]
  },
  {
   "cell_type": "code",
   "execution_count": null,
   "id": "d5230169",
   "metadata": {},
   "outputs": [],
   "source": []
  }
 ],
 "metadata": {
  "kernelspec": {
   "display_name": "wot",
   "language": "python",
   "name": "python3"
  },
  "language_info": {
   "codemirror_mode": {
    "name": "ipython",
    "version": 3
   },
   "file_extension": ".py",
   "mimetype": "text/x-python",
   "name": "python",
   "nbconvert_exporter": "python",
   "pygments_lexer": "ipython3",
   "version": "3.12.9"
  }
 },
 "nbformat": 4,
 "nbformat_minor": 5
}
